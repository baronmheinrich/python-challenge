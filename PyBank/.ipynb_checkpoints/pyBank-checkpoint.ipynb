{
 "cells": [
  {
   "cell_type": "code",
   "execution_count": 10,
   "metadata": {},
   "outputs": [],
   "source": [
    "import os\n",
    "import pandas as pd"
   ]
  },
  {
   "cell_type": "code",
   "execution_count": 11,
   "metadata": {},
   "outputs": [],
   "source": [
    "# Load test data\n",
    "bank_csv_path = os.path.join('raw_data', 'budget_data_1.csv')\n",
    "bank_df = pd.read_csv(bank_csv_path)"
   ]
  },
  {
   "cell_type": "code",
   "execution_count": 12,
   "metadata": {},
   "outputs": [
    {
     "data": {
      "text/html": [
       "<div>\n",
       "<style scoped>\n",
       "    .dataframe tbody tr th:only-of-type {\n",
       "        vertical-align: middle;\n",
       "    }\n",
       "\n",
       "    .dataframe tbody tr th {\n",
       "        vertical-align: top;\n",
       "    }\n",
       "\n",
       "    .dataframe thead th {\n",
       "        text-align: right;\n",
       "    }\n",
       "</style>\n",
       "<table border=\"1\" class=\"dataframe\">\n",
       "  <thead>\n",
       "    <tr style=\"text-align: right;\">\n",
       "      <th></th>\n",
       "      <th>Date</th>\n",
       "      <th>Revenue</th>\n",
       "    </tr>\n",
       "  </thead>\n",
       "  <tbody>\n",
       "    <tr>\n",
       "      <th>0</th>\n",
       "      <td>Oct-12</td>\n",
       "      <td>1154293</td>\n",
       "    </tr>\n",
       "    <tr>\n",
       "      <th>1</th>\n",
       "      <td>Nov-12</td>\n",
       "      <td>885773</td>\n",
       "    </tr>\n",
       "    <tr>\n",
       "      <th>2</th>\n",
       "      <td>Dec-12</td>\n",
       "      <td>-448704</td>\n",
       "    </tr>\n",
       "    <tr>\n",
       "      <th>3</th>\n",
       "      <td>Jan-13</td>\n",
       "      <td>563679</td>\n",
       "    </tr>\n",
       "    <tr>\n",
       "      <th>4</th>\n",
       "      <td>Feb-13</td>\n",
       "      <td>555394</td>\n",
       "    </tr>\n",
       "  </tbody>\n",
       "</table>\n",
       "</div>"
      ],
      "text/plain": [
       "     Date  Revenue\n",
       "0  Oct-12  1154293\n",
       "1  Nov-12   885773\n",
       "2  Dec-12  -448704\n",
       "3  Jan-13   563679\n",
       "4  Feb-13   555394"
      ]
     },
     "execution_count": 12,
     "metadata": {},
     "output_type": "execute_result"
    }
   ],
   "source": [
    "bank_df.head()"
   ]
  },
  {
   "cell_type": "code",
   "execution_count": 13,
   "metadata": {},
   "outputs": [
    {
     "data": {
      "text/plain": [
       "41"
      ]
     },
     "execution_count": 13,
     "metadata": {},
     "output_type": "execute_result"
    }
   ],
   "source": [
    "total_months = len(bank_df['Date'].unique())\n",
    "total_months"
   ]
  },
  {
   "cell_type": "code",
   "execution_count": 14,
   "metadata": {},
   "outputs": [
    {
     "data": {
      "text/plain": [
       "18971412"
      ]
     },
     "execution_count": 14,
     "metadata": {},
     "output_type": "execute_result"
    }
   ],
   "source": [
    "total_revenue = bank_df['Revenue'].sum()\n",
    "total_revenue"
   ]
  },
  {
   "cell_type": "code",
   "execution_count": 15,
   "metadata": {},
   "outputs": [],
   "source": [
    "revenue_deltas = []\n",
    "\n",
    "for i in range(len(bank_df['Revenue']) - 1):\n",
    "    revenue_deltas.append(bank_df.loc[i + 1, 'Revenue'] - bank_df.loc[i, 'Revenue'])\n",
    "\n",
    "avg_delta = sum(abs(delta) for delta in revenue_deltas) / len(revenue_deltas)"
   ]
  },
  {
   "cell_type": "code",
   "execution_count": 16,
   "metadata": {},
   "outputs": [
    {
     "data": {
      "text/plain": [
       "'Jan-16'"
      ]
     },
     "execution_count": 16,
     "metadata": {},
     "output_type": "execute_result"
    }
   ],
   "source": [
    "greatest_increase = 0\n",
    "prev_increase = 0\n",
    "date_increase = ''\n",
    "\n",
    "for i in range(len(bank_df['Revenue']) - 1):\n",
    "    curr_cell = bank_df.loc[i, 'Revenue']\n",
    "    next_cell = bank_df.loc[i + 1, 'Revenue']\n",
    "    \n",
    "    if next_cell > curr_cell:\n",
    "        increase = next_cell - curr_cell\n",
    "        if increase > prev_increase:\n",
    "            greatest_increase = increase\n",
    "            date_increase = bank_df.loc[i, 'Date']\n",
    "        else:\n",
    "            increase = prev_increase\n",
    "\n",
    "date_increase"
   ]
  },
  {
   "cell_type": "code",
   "execution_count": 17,
   "metadata": {},
   "outputs": [
    {
     "data": {
      "text/plain": [
       "'Dec-15'"
      ]
     },
     "execution_count": 17,
     "metadata": {},
     "output_type": "execute_result"
    }
   ],
   "source": [
    "greatest_decrease = 0\n",
    "prev_decrease = 0\n",
    "date_decrease = ''\n",
    "\n",
    "for i in range(len(bank_df['Revenue']) - 1):\n",
    "    curr_cell = bank_df.loc[i, 'Revenue']\n",
    "    next_cell = bank_df.loc[i + 1, 'Revenue']\n",
    "    \n",
    "    if next_cell < curr_cell:\n",
    "        decrease = curr_cell - next_cell\n",
    "        if decrease > prev_decrease:\n",
    "            greatest_decrease = decrease\n",
    "            date_decrease = bank_df.loc[i, 'Date']\n",
    "        else:\n",
    "            prev_decrease = decrease\n",
    "    else:\n",
    "        continue\n",
    "\n",
    "date_decrease"
   ]
  },
  {
   "cell_type": "code",
   "execution_count": 18,
   "metadata": {},
   "outputs": [
    {
     "name": "stdout",
     "output_type": "stream",
     "text": [
      "Financial Analysis\n",
      "----------------------------\n",
      "Total Months: 41\n",
      "Total Revenue: $18971412\n",
      "Average Revenue Change: $655158.225\n",
      "Greatest Increase in Revenue: Jan-16 $1837235\n",
      "Greatest Decrease in Revenue: Dec-15 $-1756602\n"
     ]
    }
   ],
   "source": [
    "print('Financial Analysis')\n",
    "print('----------------------------')\n",
    "print('Total Months: {}'.format(total_months))\n",
    "print('Total Revenue: ${}'. format(total_revenue))\n",
    "print('Average Revenue Change: ${}'.format(avg_delta))\n",
    "print('Greatest Increase in Revenue: {} ${}'.format(date_increase, greatest_increase))\n",
    "print('Greatest Decrease in Revenue: {} $-{}'.format(date_decrease, greatest_decrease))"
   ]
  },
  {
   "cell_type": "code",
   "execution_count": null,
   "metadata": {},
   "outputs": [],
   "source": []
  }
 ],
 "metadata": {
  "kernelspec": {
   "display_name": "Python [conda env:ds3]",
   "language": "python",
   "name": "conda-env-ds3-py"
  },
  "language_info": {
   "codemirror_mode": {
    "name": "ipython",
    "version": 3
   },
   "file_extension": ".py",
   "mimetype": "text/x-python",
   "name": "python",
   "nbconvert_exporter": "python",
   "pygments_lexer": "ipython3",
   "version": "3.6.3"
  }
 },
 "nbformat": 4,
 "nbformat_minor": 2
}
